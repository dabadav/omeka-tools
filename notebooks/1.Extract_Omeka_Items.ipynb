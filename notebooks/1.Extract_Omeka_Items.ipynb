{
 "cells": [
  {
   "cell_type": "code",
   "execution_count": 100,
   "id": "ec30ce6c",
   "metadata": {},
   "outputs": [
    {
     "name": "stdout",
     "output_type": "stream",
     "text": [
      "The autoreload extension is already loaded. To reload it, use:\n",
      "  %reload_ext autoreload\n"
     ]
    }
   ],
   "source": [
    "import sys\n",
    "sys.path.append(\"..\")\n",
    "from dotenv import load_dotenv\n",
    "load_dotenv()\n",
    "\n",
    "import omeka_extractor as oe\n",
    "\n",
    "%load_ext autoreload\n",
    "%autoreload 2"
   ]
  },
  {
   "cell_type": "code",
   "execution_count": 101,
   "id": "b25efcb7",
   "metadata": {},
   "outputs": [
    {
     "name": "stdout",
     "output_type": "stream",
     "text": [
      "Retrieved 740 items.\n"
     ]
    }
   ],
   "source": [
    "raw_items = oe.fetch_all_items()"
   ]
  },
  {
   "cell_type": "code",
   "execution_count": null,
   "id": "09c4f6df",
   "metadata": {},
   "outputs": [],
   "source": [
    "items = [oe.filter_json(item) for item in raw_items]"
   ]
  },
  {
   "cell_type": "markdown",
   "id": "49c293e9",
   "metadata": {},
   "source": [
    "`filter json files`"
   ]
  },
  {
   "cell_type": "code",
   "execution_count": 92,
   "id": "8eac0e06",
   "metadata": {},
   "outputs": [],
   "source": [
    "filtered_json = []\n",
    "for item in raw_items:\n",
    "    filtered_json.append({\n",
    "        \"id\": item[\"id\"],\n",
    "        \"item_type__id\": item.get(\"item_type\").get(\"id\"),\n",
    "        \"item_type__name\": item.get(\"item_type\").get(\"name\"),\n",
    "        \"files__count\": item.get(\"files\").get(\"count\"),\n",
    "        \"tags\": item.get(\"tags\"),\n",
    "        \"element_texts\": item.get(\"element_texts\"),\n",
    "    })\n",
    "\n",
    "df = pd.json_normalize(filtered_json, sep=\"__\")"
   ]
  },
  {
   "cell_type": "markdown",
   "id": "c506a5d0",
   "metadata": {},
   "source": [
    "`extract tags df`"
   ]
  },
  {
   "cell_type": "code",
   "execution_count": null,
   "id": "4f408397",
   "metadata": {},
   "outputs": [],
   "source": [
    "tags_columns = [\n",
    "    'id',\n",
    "    'item_type__id', 'item_type__name',\n",
    "    'files__count',\n",
    "    'tags__id', 'tags__name'\n",
    "]\n",
    "df_tags = pd.json_normalize(\n",
    "    filtered_json,\n",
    "    record_path='tags',\n",
    "    meta=[\n",
    "        'id',\n",
    "        'item_type__id',\n",
    "        'item_type__name',\n",
    "        'files__count'\n",
    "    ],\n",
    "    sep=\"__\",\n",
    "    record_prefix='tags__'\n",
    ")\n",
    "df_tags = df_tags[tags_columns]"
   ]
  },
  {
   "cell_type": "markdown",
   "id": "bcb7aaf1",
   "metadata": {},
   "source": [
    "`extract metadata df`"
   ]
  },
  {
   "cell_type": "code",
   "execution_count": 99,
   "id": "94ff2dbc",
   "metadata": {},
   "outputs": [],
   "source": [
    "element_columns = [\n",
    "    'id',\n",
    "    'item_type__id', 'item_type__name',\n",
    "    'files__count',\n",
    "    'element_set__id', 'element_set__name',\n",
    "    'element__id', 'element__name',\n",
    "    'text'\n",
    "]\n",
    "df_elements = pd.json_normalize(\n",
    "    filtered_json,\n",
    "    record_path='element_texts',\n",
    "    meta=['id','item_type__id','item_type__name','files__count'],  # optionally keep item ID\n",
    "    sep=\"__\"\n",
    ")\n",
    "\n",
    "df_elements = df_elements[element_columns]"
   ]
  },
  {
   "cell_type": "code",
   "execution_count": null,
   "id": "13c1ca32",
   "metadata": {},
   "outputs": [],
   "source": []
  },
  {
   "cell_type": "code",
   "execution_count": null,
   "id": "4bc6afa0",
   "metadata": {},
   "outputs": [],
   "source": []
  },
  {
   "cell_type": "code",
   "execution_count": null,
   "id": "4baa225f",
   "metadata": {},
   "outputs": [],
   "source": []
  }
 ],
 "metadata": {
  "kernelspec": {
   "display_name": "omeka",
   "language": "python",
   "name": "python3"
  },
  "language_info": {
   "codemirror_mode": {
    "name": "ipython",
    "version": 3
   },
   "file_extension": ".py",
   "mimetype": "text/x-python",
   "name": "python",
   "nbconvert_exporter": "python",
   "pygments_lexer": "ipython3",
   "version": "3.12.9"
  }
 },
 "nbformat": 4,
 "nbformat_minor": 5
}
