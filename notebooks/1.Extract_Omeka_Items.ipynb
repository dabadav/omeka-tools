{
 "cells": [
  {
   "cell_type": "code",
   "execution_count": 100,
   "id": "ec30ce6c",
   "metadata": {},
   "outputs": [
    {
     "name": "stdout",
     "output_type": "stream",
     "text": [
      "The autoreload extension is already loaded. To reload it, use:\n",
      "  %reload_ext autoreload\n"
     ]
    }
   ],
   "source": [
    "import sys\n",
    "sys.path.append(\"..\")\n",
    "from dotenv import load_dotenv\n",
    "load_dotenv()\n",
    "\n",
    "import omeka_extractor as oe\n",
    "\n",
    "%load_ext autoreload\n",
    "%autoreload 2"
   ]
  },
  {
   "cell_type": "markdown",
   "id": "07b1817a",
   "metadata": {},
   "source": [
    "`retrieve items`"
   ]
  },
  {
   "cell_type": "code",
   "execution_count": 101,
   "id": "b25efcb7",
   "metadata": {},
   "outputs": [
    {
     "name": "stdout",
     "output_type": "stream",
     "text": [
      "Retrieved 740 items.\n"
     ]
    }
   ],
   "source": [
    "raw_items = oe.fetch_all_items()"
   ]
  },
  {
   "cell_type": "code",
   "execution_count": 108,
   "id": "1e736121",
   "metadata": {},
   "outputs": [
    {
     "data": {
      "text/plain": [
       "{'id': 839,\n",
       " 'url': 'https://bb-g.futurememoryfoundation.org/api/items/839',\n",
       " 'public': False,\n",
       " 'featured': False,\n",
       " 'added': '2017-01-12T18:33:06+00:00',\n",
       " 'modified': '2019-01-14T12:57:34+00:00',\n",
       " 'item_type': {'id': 23,\n",
       "  'url': 'https://bb-g.futurememoryfoundation.org/api/item_types/23',\n",
       "  'name': 'Contextual Item',\n",
       "  'resource': 'item_types'},\n",
       " 'collection': {'id': 9,\n",
       "  'url': 'https://bb-g.futurememoryfoundation.org/api/collections/9',\n",
       "  'resource': 'collections'},\n",
       " 'owner': {'id': 1,\n",
       "  'url': 'https://bb-g.futurememoryfoundation.org/api/users/1',\n",
       "  'resource': 'users'},\n",
       " 'files': {'count': 1,\n",
       "  'url': 'https://bb-g.futurememoryfoundation.org/api/files?item=839',\n",
       "  'resource': 'files'},\n",
       " 'tags': [{'id': 8,\n",
       "   'url': 'https://bb-g.futurememoryfoundation.org/api/tags/8',\n",
       "   'name': 'Bergen-Belsen',\n",
       "   'resource': 'tags'}],\n",
       " 'element_texts': [{'html': False,\n",
       "   'text': 'C-11',\n",
       "   'element_set': {'id': 3,\n",
       "    'url': 'https://bb-g.futurememoryfoundation.org/api/element_sets/3',\n",
       "    'name': 'Item Type Metadata',\n",
       "    'resource': 'element_sets'},\n",
       "   'element': {'id': 142,\n",
       "    'url': 'https://bb-g.futurememoryfoundation.org/api/elements/142',\n",
       "    'name': 'FormerDB-ID',\n",
       "    'resource': 'elements'}},\n",
       "  {'html': False,\n",
       "   'text': 'Hut 211',\n",
       "   'element_set': {'id': 1,\n",
       "    'url': 'https://bb-g.futurememoryfoundation.org/api/element_sets/1',\n",
       "    'name': 'Dublin Core',\n",
       "    'resource': 'element_sets'},\n",
       "   'element': {'id': 50,\n",
       "    'url': 'https://bb-g.futurememoryfoundation.org/api/elements/50',\n",
       "    'name': 'Title',\n",
       "    'resource': 'elements'}},\n",
       "  {'html': False,\n",
       "   'text': 'Gedenkstätte Bergen-Belsen',\n",
       "   'element_set': {'id': 1,\n",
       "    'url': 'https://bb-g.futurememoryfoundation.org/api/element_sets/1',\n",
       "    'name': 'Dublin Core',\n",
       "    'resource': 'element_sets'},\n",
       "   'element': {'id': 39,\n",
       "    'url': 'https://bb-g.futurememoryfoundation.org/api/elements/39',\n",
       "    'name': 'Creator',\n",
       "    'resource': 'elements'}},\n",
       "  {'html': False,\n",
       "   'text': 'Baracke 211',\n",
       "   'element_set': {'id': 3,\n",
       "    'url': 'https://bb-g.futurememoryfoundation.org/api/element_sets/3',\n",
       "    'name': 'Item Type Metadata',\n",
       "    'resource': 'element_sets'},\n",
       "   'element': {'id': 123,\n",
       "    'url': 'https://bb-g.futurememoryfoundation.org/api/elements/123',\n",
       "    'name': 'Translated Title (German)',\n",
       "    'resource': 'elements'}},\n",
       "  {'html': False,\n",
       "   'text': 'Hut 211',\n",
       "   'element_set': {'id': 3,\n",
       "    'url': 'https://bb-g.futurememoryfoundation.org/api/element_sets/3',\n",
       "    'name': 'Item Type Metadata',\n",
       "    'resource': 'element_sets'},\n",
       "   'element': {'id': 124,\n",
       "    'url': 'https://bb-g.futurememoryfoundation.org/api/elements/124',\n",
       "    'name': 'Translated Title (English)',\n",
       "    'resource': 'elements'}},\n",
       "  {'html': False,\n",
       "   'text': 'Baracke 211 im ehemaligen Frauenlager. Hier wurden Kinder untergebracht und behandelt, die sich mit Fleckfieber oder Typhus infiziert hatten.',\n",
       "   'element_set': {'id': 3,\n",
       "    'url': 'https://bb-g.futurememoryfoundation.org/api/element_sets/3',\n",
       "    'name': 'Item Type Metadata',\n",
       "    'resource': 'element_sets'},\n",
       "   'element': {'id': 106,\n",
       "    'url': 'https://bb-g.futurememoryfoundation.org/api/elements/106',\n",
       "    'name': 'Translated Full Text Fragment (German)',\n",
       "    'resource': 'elements'}},\n",
       "  {'html': False,\n",
       "   'text': \"Hut 211 in the former women's camp. Here children infected with typhus or thyphoid fever were housed and medicated\",\n",
       "   'element_set': {'id': 3,\n",
       "    'url': 'https://bb-g.futurememoryfoundation.org/api/element_sets/3',\n",
       "    'name': 'Item Type Metadata',\n",
       "    'resource': 'element_sets'},\n",
       "   'element': {'id': 108,\n",
       "    'url': 'https://bb-g.futurememoryfoundation.org/api/elements/108',\n",
       "    'name': 'Translated Full Text Fragment (English)',\n",
       "    'resource': 'elements'}},\n",
       "  {'html': False,\n",
       "   'text': 'Gedenkstätte Bergen-Belsen',\n",
       "   'element_set': {'id': 1,\n",
       "    'url': 'https://bb-g.futurememoryfoundation.org/api/element_sets/1',\n",
       "    'name': 'Dublin Core',\n",
       "    'resource': 'element_sets'},\n",
       "   'element': {'id': 63,\n",
       "    'url': 'https://bb-g.futurememoryfoundation.org/api/elements/63',\n",
       "    'name': 'Access Rights',\n",
       "    'resource': 'elements'}},\n",
       "  {'html': False,\n",
       "   'text': 'Gedenkstätte Bergen-Belsen',\n",
       "   'element_set': {'id': 3,\n",
       "    'url': 'https://bb-g.futurememoryfoundation.org/api/element_sets/3',\n",
       "    'name': 'Item Type Metadata',\n",
       "    'resource': 'element_sets'},\n",
       "   'element': {'id': 125,\n",
       "    'url': 'https://bb-g.futurememoryfoundation.org/api/elements/125',\n",
       "    'name': 'Made Available For Insertion',\n",
       "    'resource': 'elements'}},\n",
       "  {'html': False,\n",
       "   'text': 'Gedenkstätte Bergen-Belsen',\n",
       "   'element_set': {'id': 3,\n",
       "    'url': 'https://bb-g.futurememoryfoundation.org/api/element_sets/3',\n",
       "    'name': 'Item Type Metadata',\n",
       "    'resource': 'element_sets'},\n",
       "   'element': {'id': 185,\n",
       "    'url': 'https://bb-g.futurememoryfoundation.org/api/elements/185',\n",
       "    'name': 'Metadata Author',\n",
       "    'resource': 'elements'}}],\n",
       " 'extended_resources': {'exhibit_pages': {'count': 0,\n",
       "   'url': 'https://bb-g.futurememoryfoundation.org/api/exhibit_pages?item=839',\n",
       "   'resource': 'exhibit_pages'}}}"
      ]
     },
     "execution_count": 108,
     "metadata": {},
     "output_type": "execute_result"
    }
   ],
   "source": [
    "raw_items[0]"
   ]
  },
  {
   "cell_type": "markdown",
   "id": "a8ecfcd1",
   "metadata": {},
   "source": [
    "`extract data`"
   ]
  },
  {
   "cell_type": "code",
   "execution_count": 102,
   "id": "09c4f6df",
   "metadata": {},
   "outputs": [],
   "source": [
    "items = [oe.filter_json(item) for item in raw_items]"
   ]
  },
  {
   "cell_type": "code",
   "execution_count": 104,
   "id": "be345958",
   "metadata": {},
   "outputs": [],
   "source": [
    "tags_df = oe.extract_tags(items)"
   ]
  },
  {
   "cell_type": "code",
   "execution_count": 126,
   "id": "42956d8f",
   "metadata": {},
   "outputs": [],
   "source": [
    "tags_df.to_csv('../data/tags_df.csv', index=False)"
   ]
  },
  {
   "cell_type": "code",
   "execution_count": 105,
   "id": "c04f4342",
   "metadata": {},
   "outputs": [],
   "source": [
    "metadata_df = oe.extract_metadata(items)"
   ]
  },
  {
   "cell_type": "code",
   "execution_count": 125,
   "id": "f6ffeac1",
   "metadata": {},
   "outputs": [],
   "source": [
    "metadata_df.to_csv('../data/metadata_df.csv', index=False)"
   ]
  },
  {
   "cell_type": "markdown",
   "id": "f6b421b0",
   "metadata": {},
   "source": [
    "#### Query additional information"
   ]
  },
  {
   "cell_type": "code",
   "execution_count": null,
   "id": "8046d53e",
   "metadata": {},
   "outputs": [],
   "source": [
    "from client import OmekaClient\n",
    "\n",
    "client = OmekaClient()\n",
    "\n",
    "item = client.get_item(839)\n",
    "files = client.get_files_by_item(839)\n",
    "collection = client.get_collection(item[\"collection\"][\"id\"])\n",
    "tag = client.get_tag(item[\"tags\"][0][\"id\"])\n",
    "exhibit_pages = client.get_exhibit_pages(item[\"id\"])\n",
    "\n",
    "# Or directly from URLs in the JSON:\n",
    "resolved = client.resolve_url(item[\"files\"][\"url\"])"
   ]
  }
 ],
 "metadata": {
  "kernelspec": {
   "display_name": "omeka",
   "language": "python",
   "name": "python3"
  },
  "language_info": {
   "codemirror_mode": {
    "name": "ipython",
    "version": 3
   },
   "file_extension": ".py",
   "mimetype": "text/x-python",
   "name": "python",
   "nbconvert_exporter": "python",
   "pygments_lexer": "ipython3",
   "version": "3.12.9"
  }
 },
 "nbformat": 4,
 "nbformat_minor": 5
}
