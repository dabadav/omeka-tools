{
 "cells": [
  {
   "cell_type": "code",
   "execution_count": 17,
   "id": "d9dc712f",
   "metadata": {},
   "outputs": [],
   "source": [
    "import pandas as pd\n",
    "from IPython.display import display, Markdown"
   ]
  },
  {
   "cell_type": "code",
   "execution_count": 18,
   "id": "ed0b413d",
   "metadata": {},
   "outputs": [],
   "source": [
    "metadata_df = pd.read_csv('../data/metadata_subset_df.csv')"
   ]
  },
  {
   "cell_type": "markdown",
   "id": "4f877e19",
   "metadata": {},
   "source": [
    "### Collapse items text as a single string"
   ]
  },
  {
   "cell_type": "markdown",
   "id": "affefd6a",
   "metadata": {},
   "source": [
    "To start let's use the loaded subset, filtering out english content only"
   ]
  },
  {
   "cell_type": "code",
   "execution_count": 19,
   "id": "b7e68f86",
   "metadata": {},
   "outputs": [],
   "source": [
    "metadata_english = metadata_df[metadata_df['element__category'] == 'Content Description (English)']"
   ]
  },
  {
   "cell_type": "code",
   "execution_count": 22,
   "id": "2719f923",
   "metadata": {},
   "outputs": [],
   "source": [
    "text_english = metadata_english.groupby(\"id\")[\"text\"].agg(lambda texts: \".\\n \".join(str(t) for t in texts if pd.notna(t))).reset_index().rename(columns={\"text\": \"full_text\"})"
   ]
  },
  {
   "cell_type": "markdown",
   "id": "d7243ab0",
   "metadata": {},
   "source": [
    "`display example`"
   ]
  },
  {
   "cell_type": "code",
   "execution_count": 24,
   "id": "d6bae112",
   "metadata": {},
   "outputs": [
    {
     "data": {
      "text/markdown": [
       "The POW camp, Introduction.\n",
       " From 1940, the huts of the former construction workers’ camp were used to house 600 French and Belgian POWs. Starting in May 1941, it was transformed into an independent camp known as Stalag XI C which was intended to hold 20,000 Soviet POWs. Two other so-called “Russian camps” were set up nearby at Oerbke and at Wietzendorf. Around 41,000 Soviet POWs had died in these camps of starvation, exhaustion and disease by the end of March 1942, and a total of 50,000 Soviet POWs died there by the end of the war. Stalag XI C was disbanded in the summer of 1943, and Bergen-Belsen became a branch camp of Stalag XI B at Fallingbostel. It remained in operation as the central hospital for Soviet POWs in the region until January 1945. Italian military internees were treated there as well from August 1944. After the suppression of the Warsaw Uprising in October 1944, around 1,000 members of the Polish Home Army were also housed in a separate section of the POW camp."
      ],
      "text/plain": [
       "<IPython.core.display.Markdown object>"
      ]
     },
     "metadata": {},
     "output_type": "display_data"
    }
   ],
   "source": [
    "display(Markdown(text_english.iloc[20][\"full_text\"]))"
   ]
  }
 ],
 "metadata": {
  "kernelspec": {
   "display_name": "omeka",
   "language": "python",
   "name": "python3"
  },
  "language_info": {
   "codemirror_mode": {
    "name": "ipython",
    "version": 3
   },
   "file_extension": ".py",
   "mimetype": "text/x-python",
   "name": "python",
   "nbconvert_exporter": "python",
   "pygments_lexer": "ipython3",
   "version": "3.12.9"
  }
 },
 "nbformat": 4,
 "nbformat_minor": 5
}
